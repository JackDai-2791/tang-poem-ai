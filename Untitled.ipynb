{
 "cells": [
  {
   "cell_type": "code",
   "execution_count": 1,
   "id": "139151b7-7360-4097-8f7d-02c2e6ee9b84",
   "metadata": {},
   "outputs": [
    {
     "name": "stdout",
     "output_type": "stream",
     "text": [
      "First 10 character-to-index mappings:\n",
      "'\\n' → 0\n",
      "'。' → 1\n",
      "'上' → 2\n",
      "'不' → 3\n",
      "'举' → 4\n",
      "'乡' → 5\n",
      "'低' → 6\n",
      "'光' → 7\n",
      "'前' → 8\n",
      "'啼' → 9\n"
     ]
    }
   ],
   "source": [
    "import pickle\n",
    "\n",
    "# Load the mappings\n",
    "with open(\"meta.pkl\", \"rb\") as f:\n",
    "    meta = pickle.load(f)\n",
    "\n",
    "stoi = meta[\"stoi\"]\n",
    "itos = meta[\"itos\"]\n",
    "\n",
    "# Show first 10 character mappings\n",
    "print(\"First 10 character-to-index mappings:\")\n",
    "for i, (ch, idx) in enumerate(stoi.items()):\n",
    "    print(f\"{repr(ch)} → {idx}\")\n",
    "    if i >= 9:\n",
    "        break\n"
   ]
  },
  {
   "cell_type": "code",
   "execution_count": 2,
   "id": "867b4657-cc0d-4b86-8966-f8ea0a6513a7",
   "metadata": {},
   "outputs": [
    {
     "name": "stdout",
     "output_type": "stream",
     "text": [
      "Data shape: torch.Size([57])\n",
      "First 100 tokens: [17, 8, 20, 24, 7, 38, 0, 27, 22, 10, 2, 35, 1, 0, 4, 15, 25, 20, 24, 38, 0, 6, 15, 18, 19, 5, 1, 0, 0, 21, 28, 3, 32, 23, 38, 0, 12, 12, 33, 9, 37, 1, 0, 14, 26, 36, 34, 11, 38, 0, 30, 31, 29, 13, 16, 1, 0]\n"
     ]
    }
   ],
   "source": [
    "import torch\n",
    "\n",
    "# Load the encoded tensor\n",
    "data = torch.load(open(\"train.bin\", \"rb\"))\n",
    "\n",
    "print(f\"Data shape: {data.shape}\")\n",
    "print(f\"First 100 tokens: {data[:100].tolist()}\")\n"
   ]
  },
  {
   "cell_type": "code",
   "execution_count": 3,
   "id": "0be5c8a4-e8d0-4fd9-94a9-4303acbd38bb",
   "metadata": {},
   "outputs": [
    {
     "name": "stdout",
     "output_type": "stream",
     "text": [
      "Decoded preview:\n",
      " 床前明月光，\n",
      "疑是地上霜。\n",
      "举头望明月，\n",
      "低头思故乡。\n",
      "\n",
      "春眠不觉晓，\n",
      "处处闻啼鸟。\n",
      "夜来风雨声，\n",
      "花落知多少。\n",
      "\n"
     ]
    }
   ],
   "source": [
    "# Convert first 100 tokens back to characters\n",
    "decoded = ''.join([itos[i.item()] for i in data[:100]])\n",
    "print(\"Decoded preview:\\n\", decoded)"
   ]
  },
  {
   "cell_type": "code",
   "execution_count": null,
   "id": "9207f68d-bd90-42a8-b19e-a1bd3e49783c",
   "metadata": {},
   "outputs": [],
   "source": []
  }
 ],
 "metadata": {
  "kernelspec": {
   "display_name": "Python 3 (ipykernel)",
   "language": "python",
   "name": "python3"
  },
  "language_info": {
   "codemirror_mode": {
    "name": "ipython",
    "version": 3
   },
   "file_extension": ".py",
   "mimetype": "text/x-python",
   "name": "python",
   "nbconvert_exporter": "python",
   "pygments_lexer": "ipython3",
   "version": "3.13.5"
  }
 },
 "nbformat": 4,
 "nbformat_minor": 5
}
